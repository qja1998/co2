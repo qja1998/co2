{
 "cells": [
  {
   "cell_type": "code",
   "execution_count": 1,
   "metadata": {},
   "outputs": [],
   "source": [
    "import random\n",
    "\n",
    "import numpy as np\n",
    "import pandas as pd\n",
    "import matplotlib.pyplot as plt\n",
    "\n",
    "import torch\n",
    "import torch.nn as nn\n",
    "from torch.nn import functional as F\n",
    "from torch.optim import AdamW\n",
    "from torch.utils.data import DataLoader, Dataset\n",
    "import torch.backends.cudnn as cudnn\n",
    "\n",
    "from tqdm.notebook import tqdm"
   ]
  },
  {
   "cell_type": "code",
   "execution_count": 2,
   "metadata": {},
   "outputs": [],
   "source": [
    "torch.manual_seed(0)\n",
    "torch.cuda.manual_seed(0)\n",
    "torch.cuda.manual_seed_all(0)\n",
    "np.random.seed(0)\n",
    "cudnn.benchmark = False\n",
    "cudnn.deterministic = True\n",
    "random.seed(0)\n",
    "\n",
    "if torch.cuda.is_available(): device = torch.device(\"cuda\")\n",
    "elif torch.backends.mps.is_available(): device = torch.device(\"mps\")\n",
    "else: device = torch.device('cpu')"
   ]
  },
  {
   "cell_type": "code",
   "execution_count": 3,
   "metadata": {},
   "outputs": [
    {
     "data": {
      "text/plain": [
       "device(type='mps')"
      ]
     },
     "execution_count": 3,
     "metadata": {},
     "output_type": "execute_result"
    }
   ],
   "source": [
    "device"
   ]
  },
  {
   "cell_type": "code",
   "execution_count": 4,
   "metadata": {},
   "outputs": [],
   "source": [
    "class GasDataset(Dataset):\n",
    "    def __init__(self, df, seq_len, year=None):\n",
    "        self.seq_len = seq_len\n",
    "\n",
    "        self.df = df\n",
    "        if year is not None:\n",
    "            self.df = self.df.loc[self.df['year'] == year]\n",
    "    \n",
    "    def __len__(self):\n",
    "        return len(self.df) - self.seq_len - 1\n",
    "\n",
    "    def __getitem__(self, idx):\n",
    "        data = self.df.iloc[idx:idx + self.seq_len]\n",
    "        date, x = data.date, torch.from_numpy(np.array(data[['supply']], dtype=np.float32))\n",
    "        y = torch.from_numpy(np.array(self.df.iloc[idx + self.seq_len, -4], dtype=np.float32))\n",
    "\n",
    "        return x, y"
   ]
  },
  {
   "cell_type": "code",
   "execution_count": 5,
   "metadata": {},
   "outputs": [],
   "source": [
    "class TensorExtractor(nn.Module):\n",
    "    def forward(self, x):\n",
    "        tensor, _ = x\n",
    "        return tensor\n",
    "    \n",
    "class LSTM(nn.Module):\n",
    "    def __init__(self, input_size, hidden_size, num_layer, conv_size=None):\n",
    "        super(LSTM, self).__init__()\n",
    "        lstm_layer = []\n",
    "        if conv_size is not None:\n",
    "            conv = nn.Conv1d(input_size, conv_size, kernel_size=4, stride=2, padding=0)\n",
    "            lstm_layer.append(conv)\n",
    "        lstm_layer.append(nn.LSTM(input_size, hidden_size, num_layer))\n",
    "        lstm_layer.append(TensorExtractor())\n",
    "        lstm_layer.append(nn.Linear(hidden_size, 1))\n",
    "        self.lstm = nn.Sequential(*lstm_layer)\n",
    "    \n",
    "    def forward(self, x):\n",
    "        return self.lstm(x)"
   ]
  },
  {
   "cell_type": "code",
   "execution_count": 6,
   "metadata": {},
   "outputs": [],
   "source": [
    "def train(model, train_loader, val_data, optimizer, criterion, epoch):\n",
    "    model.train()\n",
    "    for i in tqdm(range(epoch)):\n",
    "        for batch_idx, (x, y) in enumerate(train_loader):\n",
    "            x = x.squeeze(-1).to(device)\n",
    "            y = y.unsqueeze(-1).to(device)\n",
    "            \n",
    "            optimizer.zero_grad()\n",
    "            output = model(x)\n",
    "            \n",
    "            loss = criterion(output, y)\n",
    "            loss.backward()\n",
    "            optimizer.step()\n",
    "\n",
    "        if i % 100 == 0:\n",
    "            print('Train Epoch: {} [{}/{} ({:.0f}%)]\\tLoss: {:.6f}'.format(\n",
    "                epoch, i, epoch,\n",
    "                100. * i / epoch, loss.item()))\n",
    "\n",
    "    if val_data is not None:\n",
    "        model.eval()\n",
    "        loss = 0\n",
    "        true_val = []\n",
    "        predictions = []\n",
    "        with torch.no_grad():\n",
    "            for batch_idx, (x, y) in enumerate(val_data):\n",
    "                \n",
    "                x = x.view(1, -1).to(device)\n",
    "                y = y.unsqueeze(-1).to(device)\n",
    "                output = model(x).squeeze(-1)\n",
    "\n",
    "                loss += criterion(output, y)\n",
    "                true_val.append(float(y.cpu().numpy()))\n",
    "                predictions.append(float(output.cpu().numpy()))\n",
    "        \n",
    "\n",
    "        print('\\nTest set: Average loss: {:.4f}'.format(loss / len(val_data)))\n",
    "        # print(true_val, predictions)\n",
    "        plt.figure(figsize=(30,10))\n",
    "        x = np.arange(len(true_val))\n",
    "        plt.plot(x, true_val, label='true', c='blue')\n",
    "        plt.plot(x, predictions, label='predictions', c='red')\n",
    "\n",
    "        "
   ]
  },
  {
   "cell_type": "code",
   "execution_count": 7,
   "metadata": {},
   "outputs": [],
   "source": [
    "seq_len = 7\n",
    "train_rate = 0.8\n",
    "df = pd.read_csv(\"data/kor_gas_day.csv\")\n",
    "df = df.loc[df['type'] == 'A']\n",
    "train_len = int(len(df) * train_rate)\n",
    "\n",
    "df_train, df_val = df.iloc[:train_len], df.iloc[train_len:]\n",
    "train_dataset = GasDataset(df_train, seq_len)\n",
    "val_dataset = GasDataset(df_val, seq_len)"
   ]
  },
  {
   "cell_type": "code",
   "execution_count": 8,
   "metadata": {},
   "outputs": [],
   "source": [
    "hidden_szie = 128\n",
    "num_layers = 50\n",
    "learning_rate = 1e-5\n",
    "epochs = 2000\n",
    "batch_szie = 256\n",
    "\n",
    "model = LSTM(seq_len, hidden_szie, num_layers).to(device)\n",
    "optimizer = torch.optim.Adam(model.parameters(), lr=learning_rate)\n",
    "criterion = torch.nn.MSELoss().to(device)\n",
    "\n",
    "train_loader = DataLoader(train_dataset, batch_size=batch_szie, shuffle=True)\n",
    "val_loader = DataLoader(val_dataset, batch_size=batch_szie)"
   ]
  },
  {
   "cell_type": "code",
   "execution_count": null,
   "metadata": {},
   "outputs": [
    {
     "data": {
      "application/vnd.jupyter.widget-view+json": {
       "model_id": "1a719eeadc7a45aa823469072d8c3ce1",
       "version_major": 2,
       "version_minor": 0
      },
      "text/plain": [
       "  0%|          | 0/2000 [00:00<?, ?it/s]"
      ]
     },
     "metadata": {},
     "output_type": "display_data"
    },
    {
     "name": "stdout",
     "output_type": "stream",
     "text": [
      "Train Epoch: 2000 [0/2000 (0%)]\tLoss: nan\n",
      "Train Epoch: 2000 [100/2000 (5%)]\tLoss: nan\n"
     ]
    }
   ],
   "source": [
    "train(model, train_loader, val_dataset, optimizer, criterion, epochs)"
   ]
  },
  {
   "cell_type": "code",
   "execution_count": null,
   "metadata": {},
   "outputs": [],
   "source": []
  },
  {
   "cell_type": "code",
   "execution_count": null,
   "metadata": {},
   "outputs": [],
   "source": []
  }
 ],
 "metadata": {
  "kernelspec": {
   "display_name": "Python 3 (ipykernel)",
   "language": "python",
   "name": "python3"
  },
  "language_info": {
   "codemirror_mode": {
    "name": "ipython",
    "version": 3
   },
   "file_extension": ".py",
   "mimetype": "text/x-python",
   "name": "python",
   "nbconvert_exporter": "python",
   "pygments_lexer": "ipython3",
   "version": "3.10.9"
  },
  "vscode": {
   "interpreter": {
    "hash": "4875c3b623c92e2c168f3318f3e1670cc69f3f1f9406323348ff33f8e3c54a39"
   }
  }
 },
 "nbformat": 4,
 "nbformat_minor": 2
}
