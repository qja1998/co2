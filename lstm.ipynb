{
 "cells": [
  {
   "cell_type": "code",
   "execution_count": 1,
   "metadata": {},
   "outputs": [],
   "source": [
    "import random\n",
    "\n",
    "import numpy as np\n",
    "import pandas as pd\n",
    "import matplotlib.pyplot as plt\n",
    "\n",
    "import torch\n",
    "import torch.nn as nn\n",
    "from torch.nn import functional as F\n",
    "from torch.optim import AdamW\n",
    "from torch.utils.data import DataLoader, Dataset\n",
    "import torch.backends.cudnn as cudnn\n",
    "\n",
    "from tqdm.notebook import tqdm"
   ]
  },
  {
   "cell_type": "code",
   "execution_count": 2,
   "metadata": {},
   "outputs": [],
   "source": [
    "torch.manual_seed(0)\n",
    "torch.cuda.manual_seed(0)\n",
    "torch.cuda.manual_seed_all(0)\n",
    "np.random.seed(0)\n",
    "cudnn.benchmark = False\n",
    "cudnn.deterministic = True\n",
    "random.seed(0)\n",
    "\n",
    "device = torch.device(\"cuda\" if torch.cuda.is_available() else \"cpu\")"
   ]
  },
  {
   "cell_type": "code",
   "execution_count": 3,
   "metadata": {},
   "outputs": [],
   "source": [
    "class GasDataset(Dataset):\n",
    "    def __init__(self, df, seq_len, year=None):\n",
    "        self.seq_len = seq_len\n",
    "        self.df = df\n",
    "        \n",
    "        if year is not None:\n",
    "            self.df = self.df.loc[self.df['year'] == year]\n",
    "    \n",
    "    def __len__(self):\n",
    "        return len(self.df) - self.seq_len - 1\n",
    "\n",
    "    def __getitem__(self, idx):\n",
    "        data = self.df.iloc[idx:idx + self.seq_len]\n",
    "        x = torch.from_numpy(np.array(data[['supply']], dtype=np.float32))\n",
    "        y = torch.from_numpy(np.array(self.df.iloc[idx + self.seq_len, -4], dtype=np.float32))\n",
    "\n",
    "        return x, y"
   ]
  },
  {
   "cell_type": "code",
   "execution_count": 4,
   "metadata": {},
   "outputs": [],
   "source": [
    "class TensorExtractor(nn.Module):\n",
    "    def forward(self, x):\n",
    "        tensor, _ = x\n",
    "        return tensor\n",
    "    \n",
    "class LSTM(nn.Module):\n",
    "    def __init__(self, input_size, hidden_size, num_layer, conv_size=None):\n",
    "        super(LSTM, self).__init__()\n",
    "        lstm_layer = []\n",
    "        if conv_size is not None:\n",
    "            conv = nn.Conv1d(input_size, conv_size, kernel_size=4, stride=2, padding=0)\n",
    "            lstm_layer.append(conv)\n",
    "        lstm_layer.append(nn.LSTM(input_size, hidden_size, num_layer))\n",
    "        lstm_layer.append(TensorExtractor())\n",
    "        lstm_layer.append(nn.Linear(hidden_size, 1))\n",
    "        self.lstm = nn.Sequential(*lstm_layer)\n",
    "    \n",
    "    def forward(self, x):\n",
    "        return self.lstm(x)"
   ]
  },
  {
   "cell_type": "code",
   "execution_count": 5,
   "metadata": {},
   "outputs": [],
   "source": [
    "def train(model, train_loader, val_data, optimizer, criterion, epoch):\n",
    "    model.train()\n",
    "    for i in tqdm(range(epoch)):\n",
    "        for batch_idx, (x, y) in enumerate(train_loader):\n",
    "            x = x.squeeze(-1).to(device)\n",
    "            y = y.unsqueeze(-1).to(device)\n",
    "            \n",
    "            optimizer.zero_grad()\n",
    "            output = model(x)\n",
    "            \n",
    "            loss = criterion(output, y)\n",
    "            loss.backward()\n",
    "            optimizer.step()\n",
    "\n",
    "        if i % 100 == 0:\n",
    "            print('Train Epoch: {} [{}/{} ({:.0f}%)]\\tLoss: {:.6f}'.format(\n",
    "                epoch, i, epoch,\n",
    "                100. * i / epoch, loss.item()))\n",
    "\n",
    "    if val_data is not None:\n",
    "        model.eval()\n",
    "        loss = 0\n",
    "        true_val = []\n",
    "        predictions = []\n",
    "        with torch.no_grad():\n",
    "            for batch_idx, (x, y) in enumerate(val_data):\n",
    "                \n",
    "                x = x.view(1, -1).to(device)\n",
    "                y = y.unsqueeze(-1).to(device)\n",
    "                output = model(x).squeeze(-1)\n",
    "\n",
    "                loss += criterion(output, y)\n",
    "                true_val.append(float(y.cpu().numpy()))\n",
    "                predictions.append(float(output.cpu().numpy()))\n",
    "        \n",
    "\n",
    "        print('\\nTest set: Average loss: {:.4f}'.format(loss / len(val_data)))\n",
    "        # print(true_val, predictions)\n",
    "        plt.figure(figsize=(30,10))\n",
    "        x = np.arange(len(true_val))\n",
    "        plt.plot(x, true_val, label='true', c='blue')\n",
    "        plt.plot(x, predictions, label='predictions', c='red')\n",
    "\n",
    "        "
   ]
  },
  {
   "cell_type": "code",
   "execution_count": 6,
   "metadata": {},
   "outputs": [],
   "source": [
    "type = 'A'\n",
    "seq_len = 7\n",
    "train_rate = 0.7\n",
    "df = pd.read_csv(\"data/kor_gas_day.csv\")\n",
    "train_len = int(len(df) * train_rate)\n",
    "\n",
    "df = df.loc[df['type'] == type]\n",
    "df_train, df_val = df.iloc[:train_len], df.iloc[train_len:]\n",
    "train_dataset = GasDataset(df_train, seq_len)\n",
    "val_dataset = GasDataset(df_val, seq_len)"
   ]
  },
  {
   "cell_type": "code",
   "execution_count": 7,
   "metadata": {},
   "outputs": [],
   "source": [
    "hidden_szie = 128\n",
    "num_layers = 20\n",
    "learning_rate = 0.0001\n",
    "epochs = 300\n",
    "batch_szie = 32\n",
    "\n",
    "model = LSTM(seq_len, hidden_szie, num_layers).to(device)\n",
    "optimizer = torch.optim.Adam(model.parameters(), lr=learning_rate)\n",
    "criterion = torch.nn.MSELoss().to(device)\n",
    "\n",
    "train_loader = DataLoader(train_dataset, batch_size=batch_szie, shuffle=True)\n",
    "val_loader = DataLoader(val_dataset, batch_size=batch_szie)"
   ]
  },
  {
   "cell_type": "code",
   "execution_count": 8,
   "metadata": {},
   "outputs": [
    {
     "data": {
      "application/vnd.jupyter.widget-view+json": {
       "model_id": "f82fe29ed8984d70967bdc3d877066cf",
       "version_major": 2,
       "version_minor": 0
      },
      "text/plain": [
       "  0%|          | 0/300 [00:00<?, ?it/s]"
      ]
     },
     "metadata": {},
     "output_type": "display_data"
    },
    {
     "name": "stdout",
     "output_type": "stream",
     "text": [
      "Train Epoch: 300 [0/300 (0%)]\tLoss: 1095078.875000\n",
      "Train Epoch: 300 [100/300 (33%)]\tLoss: 2558193.750000\n",
      "Train Epoch: 300 [200/300 (67%)]\tLoss: 1488681.500000\n"
     ]
    },
    {
     "ename": "ValueError",
     "evalue": "__len__() should return >= 0",
     "output_type": "error",
     "traceback": [
      "\u001b[1;31m---------------------------------------------------------------------------\u001b[0m",
      "\u001b[1;31mValueError\u001b[0m                                Traceback (most recent call last)",
      "Cell \u001b[1;32mIn[8], line 1\u001b[0m\n\u001b[1;32m----> 1\u001b[0m train(model, train_loader, val_dataset, optimizer, criterion, epochs)\n",
      "Cell \u001b[1;32mIn[5], line 37\u001b[0m, in \u001b[0;36mtrain\u001b[1;34m(model, train_loader, val_data, optimizer, criterion, epoch)\u001b[0m\n\u001b[0;32m     33\u001b[0m         true_val\u001b[39m.\u001b[39mappend(\u001b[39mfloat\u001b[39m(y\u001b[39m.\u001b[39mcpu()\u001b[39m.\u001b[39mnumpy()))\n\u001b[0;32m     34\u001b[0m         predictions\u001b[39m.\u001b[39mappend(\u001b[39mfloat\u001b[39m(output\u001b[39m.\u001b[39mcpu()\u001b[39m.\u001b[39mnumpy()))\n\u001b[1;32m---> 37\u001b[0m \u001b[39mprint\u001b[39m(\u001b[39m'\u001b[39m\u001b[39m\\n\u001b[39;00m\u001b[39mTest set: Average loss: \u001b[39m\u001b[39m{:.4f}\u001b[39;00m\u001b[39m'\u001b[39m\u001b[39m.\u001b[39mformat(loss \u001b[39m/\u001b[39m \u001b[39mlen\u001b[39;49m(val_data)))\n\u001b[0;32m     38\u001b[0m \u001b[39m# print(true_val, predictions)\u001b[39;00m\n\u001b[0;32m     39\u001b[0m plt\u001b[39m.\u001b[39mfigure(figsize\u001b[39m=\u001b[39m(\u001b[39m30\u001b[39m,\u001b[39m10\u001b[39m))\n",
      "\u001b[1;31mValueError\u001b[0m: __len__() should return >= 0"
     ]
    }
   ],
   "source": [
    "train(model, train_loader, val_dataset, optimizer, criterion, epochs)"
   ]
  },
  {
   "cell_type": "code",
   "execution_count": null,
   "metadata": {},
   "outputs": [
    {
     "ename": "AttributeError",
     "evalue": "'numpy.int64' object has no attribute 'loc'",
     "output_type": "error",
     "traceback": [
      "\u001b[1;31m---------------------------------------------------------------------------\u001b[0m",
      "\u001b[1;31mAttributeError\u001b[0m                            Traceback (most recent call last)",
      "Cell \u001b[1;32mIn[97], line 5\u001b[0m\n\u001b[0;32m      2\u001b[0m true_val \u001b[39m=\u001b[39m []\n\u001b[0;32m      3\u001b[0m predictions \u001b[39m=\u001b[39m []\n\u001b[1;32m----> 5\u001b[0m \u001b[39mfor\u001b[39;00m x, y \u001b[39min\u001b[39;00m train_dataset:\n\u001b[0;32m      6\u001b[0m     \u001b[39mprint\u001b[39m(x, y)\n\u001b[0;32m      7\u001b[0m     true_val\u001b[39m.\u001b[39mextend(\u001b[39mlist\u001b[39m(\u001b[39mfloat\u001b[39m(x\u001b[39m.\u001b[39msqueeze()\u001b[39m.\u001b[39mcpu()\u001b[39m.\u001b[39mnumpy())))\n",
      "Cell \u001b[1;32mIn[87], line 15\u001b[0m, in \u001b[0;36mGasDataset.__getitem__\u001b[1;34m(self, idx)\u001b[0m\n\u001b[0;32m     13\u001b[0m data \u001b[39m=\u001b[39m \u001b[39mself\u001b[39m\u001b[39m.\u001b[39mdf\u001b[39m.\u001b[39miloc[idx:idx \u001b[39m+\u001b[39m \u001b[39mself\u001b[39m\u001b[39m.\u001b[39mseq_len]\n\u001b[0;32m     14\u001b[0m x \u001b[39m=\u001b[39m torch\u001b[39m.\u001b[39mfrom_numpy(np\u001b[39m.\u001b[39marray(data[[\u001b[39m'\u001b[39m\u001b[39msupply\u001b[39m\u001b[39m'\u001b[39m]], dtype\u001b[39m=\u001b[39mnp\u001b[39m.\u001b[39mfloat32))\n\u001b[1;32m---> 15\u001b[0m y \u001b[39m=\u001b[39m torch\u001b[39m.\u001b[39mfrom_numpy(np\u001b[39m.\u001b[39marray(\u001b[39mself\u001b[39;49m\u001b[39m.\u001b[39;49mdf\u001b[39m.\u001b[39;49miloc[idx \u001b[39m+\u001b[39;49m \u001b[39mself\u001b[39;49m\u001b[39m.\u001b[39;49mseq_len, \u001b[39m-\u001b[39;49m\u001b[39m1\u001b[39;49m]\u001b[39m.\u001b[39;49mloc[[\u001b[39m'\u001b[39m\u001b[39msupply\u001b[39m\u001b[39m'\u001b[39m]], dtype\u001b[39m=\u001b[39mnp\u001b[39m.\u001b[39mfloat32))\n\u001b[0;32m     17\u001b[0m \u001b[39mreturn\u001b[39;00m x, y\n",
      "\u001b[1;31mAttributeError\u001b[0m: 'numpy.int64' object has no attribute 'loc'"
     ]
    }
   ],
   "source": [
    "loss = 0\n",
    "true_val = []\n",
    "predictions = []\n",
    "\n",
    "for x, y in train_dataset:\n",
    "    print(x, y)\n",
    "    true_val.extend(list(float(x.squeeze().cpu().numpy())))\n",
    "\n",
    "plt.figure(figsize=(30,10))\n",
    "x = np.arange(len(true_val))\n",
    "plt.plot(x, true_val, label='true', c='blue')"
   ]
  },
  {
   "cell_type": "code",
   "execution_count": null,
   "metadata": {},
   "outputs": [],
   "source": []
  }
 ],
 "metadata": {
  "kernelspec": {
   "display_name": "co2",
   "language": "python",
   "name": "python3"
  },
  "language_info": {
   "codemirror_mode": {
    "name": "ipython",
    "version": 3
   },
   "file_extension": ".py",
   "mimetype": "text/x-python",
   "name": "python",
   "nbconvert_exporter": "python",
   "pygments_lexer": "ipython3",
   "version": "3.10.9"
  },
  "orig_nbformat": 4,
  "vscode": {
   "interpreter": {
    "hash": "fe56894a06ef2437ff1ea5593c7ec177d92d09261e0a0125f5b53250947cba0e"
   }
  }
 },
 "nbformat": 4,
 "nbformat_minor": 2
}
