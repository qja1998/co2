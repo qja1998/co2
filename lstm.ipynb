{
 "cells": [
  {
   "cell_type": "code",
   "execution_count": 22,
   "metadata": {},
   "outputs": [],
   "source": [
    "import random\n",
    "\n",
    "import numpy as np\n",
    "import pandas as pd\n",
    "\n",
    "import torch\n",
    "import torch.nn as nn\n",
    "from torch.nn import functional as F\n",
    "from torch.optim import AdamW\n",
    "from torch.utils.data import DataLoader, Dataset\n",
    "import torch.backends.cudnn as cudnn\n",
    "\n",
    "from tqdm import tqdm"
   ]
  },
  {
   "cell_type": "code",
   "execution_count": 4,
   "metadata": {},
   "outputs": [],
   "source": [
    "torch.manual_seed(0)\n",
    "torch.cuda.manual_seed(0)\n",
    "torch.cuda.manual_seed_all(0)\n",
    "np.random.seed(0)\n",
    "cudnn.benchmark = False\n",
    "cudnn.deterministic = True\n",
    "random.seed(0)\n",
    "\n",
    "device = torch.device(\"cuda\" if torch.cuda.is_available() else \"cpu\")"
   ]
  },
  {
   "cell_type": "code",
   "execution_count": 5,
   "metadata": {},
   "outputs": [],
   "source": [
    "class GasDataset(Dataset):\n",
    "    def __init__(self, df, seq_len, type, year=None):\n",
    "        self.seq_len = seq_len\n",
    "\n",
    "        self.df = df.loc[df['type'] == type]\n",
    "        if year is not None:\n",
    "            self.df = self.df.loc[self.df['year'] == year]\n",
    "    \n",
    "    def __len__(self):\n",
    "        return len(self.df) - self.seq_len - 1\n",
    "\n",
    "    def __getitem__(self, idx):\n",
    "        data = self.df.iloc[idx:idx + self.seq_len]\n",
    "        date, x = data.date, torch.from_numpy(np.array(data[['supply']], dtype=np.float32))\n",
    "        y = torch.from_numpy(np.array(self.df.iloc[idx + self.seq_len, -1], dtype=np.float32))\n",
    "\n",
    "        return x, y"
   ]
  },
  {
   "cell_type": "code",
   "execution_count": 11,
   "metadata": {},
   "outputs": [
    {
     "ename": "SyntaxError",
     "evalue": "unterminated string literal (detected at line 6) (2690087885.py, line 6)",
     "output_type": "error",
     "traceback": [
      "\u001b[1;36m  Cell \u001b[1;32mIn[11], line 6\u001b[1;36m\u001b[0m\n\u001b[1;33m    train_dataset = GasDataset(df_train, 7, 'A', 2013')\u001b[0m\n\u001b[1;37m                                                     ^\u001b[0m\n\u001b[1;31mSyntaxError\u001b[0m\u001b[1;31m:\u001b[0m unterminated string literal (detected at line 6)\n"
     ]
    }
   ],
   "source": [
    "train_rate = 0.2\n",
    "df = pd.read_csv(\"data/kor_gas_day.csv\")\n",
    "train_len = int(len(df) * train_rate)\n",
    "\n",
    "df_train, df_val = df.iloc[:train_len], df.iloc[train_len:]\n",
    "train_dataset = GasDataset(df_train, 7, 'A', 2013)\n",
    "val_dataset = GasDataset(df_val, 7, 'A', 2013)"
   ]
  },
  {
   "cell_type": "code",
   "execution_count": 12,
   "metadata": {},
   "outputs": [],
   "source": [
    "class LSTM(nn.Module):\n",
    "    def __init__(self, input_size, hidden_size, output_size):\n",
    "        super(LSTM, self).__init__()\n",
    "\n",
    "        self.lstm = nn.LSTM(input_size, hidden_size, output_size)\n",
    "        self.fc = nn.Linear(hidden_size, output_size)\n",
    "    \n",
    "    def forward(self, x):\n",
    "        x, _ = self.lstm(x)\n",
    "        x = self.fc(x)\n",
    "        return x"
   ]
  },
  {
   "cell_type": "code",
   "execution_count": 27,
   "metadata": {},
   "outputs": [],
   "source": [
    "def train(model, train_loader, val_loader, optimizer, criterion, epoch):\n",
    "    model.train()\n",
    "    for i in (range(epoch)):\n",
    "        for batch_idx, (x, y) in enumerate(train_loader):\n",
    "            x = x.squeeze().to(device)\n",
    "            y = y.unsqueeze(-1).to(device)\n",
    "            \n",
    "            optimizer.zero_grad()\n",
    "            output = model(x)\n",
    "            \n",
    "            loss = criterion(output, y)\n",
    "            loss.backward()\n",
    "            optimizer.step()\n",
    "\n",
    "        if i % 100 == 0:\n",
    "            print('Train Epoch: {} [{}/{} ({:.0f}%)]\\tLoss: {:.6f}'.format(\n",
    "                epoch, i, epoch,\n",
    "                100. * i / epoch, loss.item()))\n",
    "\n",
    "    if val_loader is not None:\n",
    "        model.eval()\n",
    "        loss = 0\n",
    "        with torch.no_grad():\n",
    "            for batch_idx, (x, y) in enumerate(val_loader):\n",
    "                x = x.squeeze().to(device)\n",
    "                y = y.unsqueeze(-1).to(device)\n",
    "                output = model(x)\n",
    "                loss += criterion(output, y)\n",
    "        print('\\nTest set: Average loss: {:.4f}'.format(loss / len(val_loader.dataset)))\n",
    "\n",
    "        "
   ]
  },
  {
   "cell_type": "code",
   "execution_count": 24,
   "metadata": {},
   "outputs": [],
   "source": [
    "train_rate = 0.2\n",
    "df = pd.read_csv(\"data/kor_gas_day.csv\")\n",
    "train_len = int(len(df) * train_rate)\n",
    "\n",
    "df_train, df_val = df.iloc[:train_len], df.iloc[train_len:]\n",
    "train_dataset = GasDataset(df_train, 7, 'A')\n",
    "val_dataset = GasDataset(df_val, 7, 'A')"
   ]
  },
  {
   "cell_type": "code",
   "execution_count": 25,
   "metadata": {},
   "outputs": [],
   "source": [
    "input_szie = 7\n",
    "output_szie = 1\n",
    "hidden_szie = 128\n",
    "learning_rate = 0.001\n",
    "epochs = 1000\n",
    "batch_szie = 32\n",
    "\n",
    "model = LSTM(input_szie, hidden_szie, output_szie).to(device)\n",
    "optimizer = torch.optim.Adam(model.parameters(), lr=learning_rate)\n",
    "criterion = torch.nn.MSELoss().to(device)\n",
    "\n",
    "train_loader = DataLoader(train_dataset, batch_size=batch_szie, shuffle=True)\n",
    "val_loader = DataLoader(val_dataset, batch_size=batch_szie, shuffle=True)"
   ]
  },
  {
   "cell_type": "code",
   "execution_count": 28,
   "metadata": {},
   "outputs": [
    {
     "name": "stdout",
     "output_type": "stream",
     "text": [
      "Train Epoch: 1000 [396/722 (96%)]\tLoss: 71.162155\n",
      "Train Epoch: 1000 [396/722 (96%)]\tLoss: 94.313698\n",
      "Train Epoch: 1000 [396/722 (96%)]\tLoss: 71.077232\n",
      "Train Epoch: 1000 [396/722 (96%)]\tLoss: 90.182335\n",
      "Train Epoch: 1000 [396/722 (96%)]\tLoss: 64.361534\n",
      "Train Epoch: 1000 [396/722 (96%)]\tLoss: 75.533920\n",
      "Train Epoch: 1000 [396/722 (96%)]\tLoss: 73.612999\n",
      "Train Epoch: 1000 [396/722 (96%)]\tLoss: 73.668503\n",
      "Train Epoch: 1000 [396/722 (96%)]\tLoss: 87.169044\n",
      "Train Epoch: 1000 [396/722 (96%)]\tLoss: 73.957115\n",
      "\n",
      "Test set: Average loss: 2.4294\n"
     ]
    }
   ],
   "source": [
    "train(model, train_loader, val_loader, optimizer, criterion, epochs)"
   ]
  },
  {
   "cell_type": "code",
   "execution_count": null,
   "metadata": {},
   "outputs": [],
   "source": []
  }
 ],
 "metadata": {
  "kernelspec": {
   "display_name": "co2",
   "language": "python",
   "name": "python3"
  },
  "language_info": {
   "codemirror_mode": {
    "name": "ipython",
    "version": 3
   },
   "file_extension": ".py",
   "mimetype": "text/x-python",
   "name": "python",
   "nbconvert_exporter": "python",
   "pygments_lexer": "ipython3",
   "version": "3.10.9"
  },
  "orig_nbformat": 4,
  "vscode": {
   "interpreter": {
    "hash": "fe56894a06ef2437ff1ea5593c7ec177d92d09261e0a0125f5b53250947cba0e"
   }
  }
 },
 "nbformat": 4,
 "nbformat_minor": 2
}
