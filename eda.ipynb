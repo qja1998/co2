{
 "cells": [
  {
   "cell_type": "code",
   "execution_count": 1,
   "metadata": {},
   "outputs": [],
   "source": [
    "import pandas as pd\n",
    "import matplotlib.pyplot as plt"
   ]
  },
  {
   "cell_type": "code",
   "execution_count": 2,
   "metadata": {},
   "outputs": [],
   "source": [
    "df  = pd.read_csv(\"data/한국가스공사_시간별 공급량_20181231.csv\", encoding='euc-kr')"
   ]
  },
  {
   "cell_type": "code",
   "execution_count": 3,
   "metadata": {},
   "outputs": [
    {
     "name": "stdout",
     "output_type": "stream",
     "text": [
      "          연월일  시간 구분       공급량\n",
      "0  2013-01-01   1  A  2497.129\n",
      "1  2013-01-01   2  A  2363.265\n",
      "2  2013-01-01   3  A  2258.505\n",
      "3  2013-01-01   4  A  2243.969\n",
      "4  2013-01-01   5  A  2344.105\n"
     ]
    }
   ],
   "source": [
    "#\"연월일\",\"시간\",\"구분\",\"공급량\"\n",
    "a_df = df.loc[df.구분 == 'A']\n",
    "print(a_df.head())"
   ]
  },
  {
   "cell_type": "code",
   "execution_count": 4,
   "metadata": {},
   "outputs": [
    {
     "name": "stderr",
     "output_type": "stream",
     "text": [
      "/var/folders/xy/rqh8z9jx0mn_3fbtlzl6v7lc0000gn/T/ipykernel_1742/244365287.py:1: SettingWithCopyWarning: \n",
      "A value is trying to be set on a copy of a slice from a DataFrame.\n",
      "Try using .loc[row_indexer,col_indexer] = value instead\n",
      "\n",
      "See the caveats in the documentation: https://pandas.pydata.org/pandas-docs/stable/user_guide/indexing.html#returning-a-view-versus-a-copy\n",
      "  a_df['timestamp'] = a_df.연월일\n",
      "/var/folders/xy/rqh8z9jx0mn_3fbtlzl6v7lc0000gn/T/ipykernel_1742/244365287.py:3: SettingWithCopyWarning: \n",
      "A value is trying to be set on a copy of a slice from a DataFrame\n",
      "\n",
      "See the caveats in the documentation: https://pandas.pydata.org/pandas-docs/stable/user_guide/indexing.html#returning-a-view-versus-a-copy\n",
      "  a_df.timestamp.iloc[i] = a_df.timestamp.iloc[i] + str(a_df.시간.iloc[i])\n"
     ]
    }
   ],
   "source": [
    "a_df['timestamp'] = a_df.연월일\n",
    "for i in range(len(a_df.timestamp)):\n",
    "    a_df.timestamp.iloc[i] = a_df.timestamp.iloc[i] + str(a_df.시간.iloc[i])"
   ]
  },
  {
   "cell_type": "code",
   "execution_count": 11,
   "metadata": {},
   "outputs": [
    {
     "name": "stderr",
     "output_type": "stream",
     "text": [
      "/var/folders/xy/rqh8z9jx0mn_3fbtlzl6v7lc0000gn/T/ipykernel_1742/2535845517.py:1: SettingWithCopyWarning: \n",
      "A value is trying to be set on a copy of a slice from a DataFrame.\n",
      "Try using .loc[row_indexer,col_indexer] = value instead\n",
      "\n",
      "See the caveats in the documentation: https://pandas.pydata.org/pandas-docs/stable/user_guide/indexing.html#returning-a-view-versus-a-copy\n",
      "  a_df.loc[:, 'diff1'] = a_df.loc[:, '공급량'].diff()\n"
     ]
    }
   ],
   "source": [
    "a_df.loc[:, 'diff1'] = a_df.loc[:, '공급량'].diff()"
   ]
  },
  {
   "cell_type": "code",
   "execution_count": 12,
   "metadata": {},
   "outputs": [
    {
     "data": {
      "text/html": [
       "<div>\n",
       "<style scoped>\n",
       "    .dataframe tbody tr th:only-of-type {\n",
       "        vertical-align: middle;\n",
       "    }\n",
       "\n",
       "    .dataframe tbody tr th {\n",
       "        vertical-align: top;\n",
       "    }\n",
       "\n",
       "    .dataframe thead th {\n",
       "        text-align: right;\n",
       "    }\n",
       "</style>\n",
       "<table border=\"1\" class=\"dataframe\">\n",
       "  <thead>\n",
       "    <tr style=\"text-align: right;\">\n",
       "      <th></th>\n",
       "      <th>연월일</th>\n",
       "      <th>시간</th>\n",
       "      <th>구분</th>\n",
       "      <th>공급량</th>\n",
       "      <th>timestamp</th>\n",
       "      <th>diff1</th>\n",
       "      <th>year</th>\n",
       "      <th>momth</th>\n",
       "      <th>day</th>\n",
       "    </tr>\n",
       "  </thead>\n",
       "  <tbody>\n",
       "    <tr>\n",
       "      <th>0</th>\n",
       "      <td>2013-01-01</td>\n",
       "      <td>1</td>\n",
       "      <td>A</td>\n",
       "      <td>2497.129</td>\n",
       "      <td>2013-01-011</td>\n",
       "      <td>NaN</td>\n",
       "      <td>2013</td>\n",
       "      <td>01</td>\n",
       "      <td>01</td>\n",
       "    </tr>\n",
       "    <tr>\n",
       "      <th>1</th>\n",
       "      <td>2013-01-01</td>\n",
       "      <td>2</td>\n",
       "      <td>A</td>\n",
       "      <td>2363.265</td>\n",
       "      <td>2013-01-012</td>\n",
       "      <td>-133.864</td>\n",
       "      <td>2013</td>\n",
       "      <td>01</td>\n",
       "      <td>01</td>\n",
       "    </tr>\n",
       "    <tr>\n",
       "      <th>2</th>\n",
       "      <td>2013-01-01</td>\n",
       "      <td>3</td>\n",
       "      <td>A</td>\n",
       "      <td>2258.505</td>\n",
       "      <td>2013-01-013</td>\n",
       "      <td>-104.760</td>\n",
       "      <td>2013</td>\n",
       "      <td>01</td>\n",
       "      <td>01</td>\n",
       "    </tr>\n",
       "    <tr>\n",
       "      <th>3</th>\n",
       "      <td>2013-01-01</td>\n",
       "      <td>4</td>\n",
       "      <td>A</td>\n",
       "      <td>2243.969</td>\n",
       "      <td>2013-01-014</td>\n",
       "      <td>-14.536</td>\n",
       "      <td>2013</td>\n",
       "      <td>01</td>\n",
       "      <td>01</td>\n",
       "    </tr>\n",
       "    <tr>\n",
       "      <th>4</th>\n",
       "      <td>2013-01-01</td>\n",
       "      <td>5</td>\n",
       "      <td>A</td>\n",
       "      <td>2344.105</td>\n",
       "      <td>2013-01-015</td>\n",
       "      <td>100.136</td>\n",
       "      <td>2013</td>\n",
       "      <td>01</td>\n",
       "      <td>01</td>\n",
       "    </tr>\n",
       "  </tbody>\n",
       "</table>\n",
       "</div>"
      ],
      "text/plain": [
       "          연월일  시간 구분       공급량    timestamp    diff1  year momth day\n",
       "0  2013-01-01   1  A  2497.129  2013-01-011      NaN  2013    01  01\n",
       "1  2013-01-01   2  A  2363.265  2013-01-012 -133.864  2013    01  01\n",
       "2  2013-01-01   3  A  2258.505  2013-01-013 -104.760  2013    01  01\n",
       "3  2013-01-01   4  A  2243.969  2013-01-014  -14.536  2013    01  01\n",
       "4  2013-01-01   5  A  2344.105  2013-01-015  100.136  2013    01  01"
      ]
     },
     "execution_count": 12,
     "metadata": {},
     "output_type": "execute_result"
    }
   ],
   "source": [
    "a_df.head()"
   ]
  },
  {
   "cell_type": "code",
   "execution_count": 6,
   "metadata": {},
   "outputs": [
    {
     "name": "stderr",
     "output_type": "stream",
     "text": [
      "/var/folders/xy/rqh8z9jx0mn_3fbtlzl6v7lc0000gn/T/ipykernel_1742/2184930432.py:1: SettingWithCopyWarning: \n",
      "A value is trying to be set on a copy of a slice from a DataFrame.\n",
      "Try using .loc[row_indexer,col_indexer] = value instead\n",
      "\n",
      "See the caveats in the documentation: https://pandas.pydata.org/pandas-docs/stable/user_guide/indexing.html#returning-a-view-versus-a-copy\n",
      "  a_df['year'] = a_df.timestamp\n",
      "/var/folders/xy/rqh8z9jx0mn_3fbtlzl6v7lc0000gn/T/ipykernel_1742/2184930432.py:2: SettingWithCopyWarning: \n",
      "A value is trying to be set on a copy of a slice from a DataFrame.\n",
      "Try using .loc[row_indexer,col_indexer] = value instead\n",
      "\n",
      "See the caveats in the documentation: https://pandas.pydata.org/pandas-docs/stable/user_guide/indexing.html#returning-a-view-versus-a-copy\n",
      "  a_df['momth'] = a_df.timestamp\n",
      "/var/folders/xy/rqh8z9jx0mn_3fbtlzl6v7lc0000gn/T/ipykernel_1742/2184930432.py:3: SettingWithCopyWarning: \n",
      "A value is trying to be set on a copy of a slice from a DataFrame.\n",
      "Try using .loc[row_indexer,col_indexer] = value instead\n",
      "\n",
      "See the caveats in the documentation: https://pandas.pydata.org/pandas-docs/stable/user_guide/indexing.html#returning-a-view-versus-a-copy\n",
      "  a_df['day'] = a_df.timestamp\n",
      "/var/folders/xy/rqh8z9jx0mn_3fbtlzl6v7lc0000gn/T/ipykernel_1742/2184930432.py:6: SettingWithCopyWarning: \n",
      "A value is trying to be set on a copy of a slice from a DataFrame\n",
      "\n",
      "See the caveats in the documentation: https://pandas.pydata.org/pandas-docs/stable/user_guide/indexing.html#returning-a-view-versus-a-copy\n",
      "  a_df['year'].iloc[i] = y\n",
      "/var/folders/xy/rqh8z9jx0mn_3fbtlzl6v7lc0000gn/T/ipykernel_1742/2184930432.py:7: SettingWithCopyWarning: \n",
      "A value is trying to be set on a copy of a slice from a DataFrame\n",
      "\n",
      "See the caveats in the documentation: https://pandas.pydata.org/pandas-docs/stable/user_guide/indexing.html#returning-a-view-versus-a-copy\n",
      "  a_df['momth'].iloc[i] = m\n",
      "/var/folders/xy/rqh8z9jx0mn_3fbtlzl6v7lc0000gn/T/ipykernel_1742/2184930432.py:8: SettingWithCopyWarning: \n",
      "A value is trying to be set on a copy of a slice from a DataFrame\n",
      "\n",
      "See the caveats in the documentation: https://pandas.pydata.org/pandas-docs/stable/user_guide/indexing.html#returning-a-view-versus-a-copy\n",
      "  a_df['day'].iloc[i] = d\n"
     ]
    },
    {
     "data": {
      "text/html": [
       "<div>\n",
       "<style scoped>\n",
       "    .dataframe tbody tr th:only-of-type {\n",
       "        vertical-align: middle;\n",
       "    }\n",
       "\n",
       "    .dataframe tbody tr th {\n",
       "        vertical-align: top;\n",
       "    }\n",
       "\n",
       "    .dataframe thead th {\n",
       "        text-align: right;\n",
       "    }\n",
       "</style>\n",
       "<table border=\"1\" class=\"dataframe\">\n",
       "  <thead>\n",
       "    <tr style=\"text-align: right;\">\n",
       "      <th></th>\n",
       "      <th>시간</th>\n",
       "      <th>구분</th>\n",
       "      <th>공급량</th>\n",
       "      <th>timestamp</th>\n",
       "      <th>diff1</th>\n",
       "      <th>year</th>\n",
       "      <th>momth</th>\n",
       "      <th>day</th>\n",
       "    </tr>\n",
       "  </thead>\n",
       "  <tbody>\n",
       "    <tr>\n",
       "      <th>0</th>\n",
       "      <td>1</td>\n",
       "      <td>A</td>\n",
       "      <td>2497.129</td>\n",
       "      <td>2013-01-011</td>\n",
       "      <td>NaN</td>\n",
       "      <td>2013</td>\n",
       "      <td>01</td>\n",
       "      <td>01</td>\n",
       "    </tr>\n",
       "    <tr>\n",
       "      <th>1</th>\n",
       "      <td>2</td>\n",
       "      <td>A</td>\n",
       "      <td>2363.265</td>\n",
       "      <td>2013-01-012</td>\n",
       "      <td>-133.864</td>\n",
       "      <td>2013</td>\n",
       "      <td>01</td>\n",
       "      <td>01</td>\n",
       "    </tr>\n",
       "    <tr>\n",
       "      <th>2</th>\n",
       "      <td>3</td>\n",
       "      <td>A</td>\n",
       "      <td>2258.505</td>\n",
       "      <td>2013-01-013</td>\n",
       "      <td>-104.760</td>\n",
       "      <td>2013</td>\n",
       "      <td>01</td>\n",
       "      <td>01</td>\n",
       "    </tr>\n",
       "    <tr>\n",
       "      <th>3</th>\n",
       "      <td>4</td>\n",
       "      <td>A</td>\n",
       "      <td>2243.969</td>\n",
       "      <td>2013-01-014</td>\n",
       "      <td>-14.536</td>\n",
       "      <td>2013</td>\n",
       "      <td>01</td>\n",
       "      <td>01</td>\n",
       "    </tr>\n",
       "    <tr>\n",
       "      <th>4</th>\n",
       "      <td>5</td>\n",
       "      <td>A</td>\n",
       "      <td>2344.105</td>\n",
       "      <td>2013-01-015</td>\n",
       "      <td>100.136</td>\n",
       "      <td>2013</td>\n",
       "      <td>01</td>\n",
       "      <td>01</td>\n",
       "    </tr>\n",
       "    <tr>\n",
       "      <th>...</th>\n",
       "      <td>...</td>\n",
       "      <td>...</td>\n",
       "      <td>...</td>\n",
       "      <td>...</td>\n",
       "      <td>...</td>\n",
       "      <td>...</td>\n",
       "      <td>...</td>\n",
       "      <td>...</td>\n",
       "    </tr>\n",
       "    <tr>\n",
       "      <th>315523</th>\n",
       "      <td>20</td>\n",
       "      <td>A</td>\n",
       "      <td>3040.868</td>\n",
       "      <td>2018-12-3120</td>\n",
       "      <td>49.139</td>\n",
       "      <td>2018</td>\n",
       "      <td>12</td>\n",
       "      <td>31</td>\n",
       "    </tr>\n",
       "    <tr>\n",
       "      <th>315524</th>\n",
       "      <td>21</td>\n",
       "      <td>A</td>\n",
       "      <td>2973.577</td>\n",
       "      <td>2018-12-3121</td>\n",
       "      <td>-67.291</td>\n",
       "      <td>2018</td>\n",
       "      <td>12</td>\n",
       "      <td>31</td>\n",
       "    </tr>\n",
       "    <tr>\n",
       "      <th>315525</th>\n",
       "      <td>22</td>\n",
       "      <td>A</td>\n",
       "      <td>2840.272</td>\n",
       "      <td>2018-12-3122</td>\n",
       "      <td>-133.305</td>\n",
       "      <td>2018</td>\n",
       "      <td>12</td>\n",
       "      <td>31</td>\n",
       "    </tr>\n",
       "    <tr>\n",
       "      <th>315526</th>\n",
       "      <td>23</td>\n",
       "      <td>A</td>\n",
       "      <td>2692.385</td>\n",
       "      <td>2018-12-3123</td>\n",
       "      <td>-147.887</td>\n",
       "      <td>2018</td>\n",
       "      <td>12</td>\n",
       "      <td>31</td>\n",
       "    </tr>\n",
       "    <tr>\n",
       "      <th>315527</th>\n",
       "      <td>24</td>\n",
       "      <td>A</td>\n",
       "      <td>2583.340</td>\n",
       "      <td>2018-12-3124</td>\n",
       "      <td>-109.045</td>\n",
       "      <td>2018</td>\n",
       "      <td>12</td>\n",
       "      <td>31</td>\n",
       "    </tr>\n",
       "  </tbody>\n",
       "</table>\n",
       "<p>52584 rows × 8 columns</p>\n",
       "</div>"
      ],
      "text/plain": [
       "        시간 구분       공급량     timestamp    diff1  year momth day\n",
       "0        1  A  2497.129   2013-01-011      NaN  2013    01  01\n",
       "1        2  A  2363.265   2013-01-012 -133.864  2013    01  01\n",
       "2        3  A  2258.505   2013-01-013 -104.760  2013    01  01\n",
       "3        4  A  2243.969   2013-01-014  -14.536  2013    01  01\n",
       "4        5  A  2344.105   2013-01-015  100.136  2013    01  01\n",
       "...     .. ..       ...           ...      ...   ...   ...  ..\n",
       "315523  20  A  3040.868  2018-12-3120   49.139  2018    12  31\n",
       "315524  21  A  2973.577  2018-12-3121  -67.291  2018    12  31\n",
       "315525  22  A  2840.272  2018-12-3122 -133.305  2018    12  31\n",
       "315526  23  A  2692.385  2018-12-3123 -147.887  2018    12  31\n",
       "315527  24  A  2583.340  2018-12-3124 -109.045  2018    12  31\n",
       "\n",
       "[52584 rows x 8 columns]"
      ]
     },
     "execution_count": 6,
     "metadata": {},
     "output_type": "execute_result"
    }
   ],
   "source": [
    "a_df['year'] = a_df.timestamp\n",
    "a_df['momth'] = a_df.timestamp\n",
    "a_df['day'] = a_df.timestamp\n",
    "for i in range(len(a_df.timestamp)):\n",
    "    y, m, d = a_df.연월일.iloc[i].split('-')\n",
    "    a_df.loc[i, 'year'] = y\n",
    "    a_df.loc[i, 'month'] = m\n",
    "    a_df.loc[i, 'day'] = d\n",
    "a_df.drop('연월일', axis=1)"
   ]
  },
  {
   "cell_type": "code",
   "execution_count": 7,
   "metadata": {},
   "outputs": [],
   "source": [
    "a2013_df = a_df.loc[a_df.year == '2013']"
   ]
  },
  {
   "cell_type": "code",
   "execution_count": 8,
   "metadata": {},
   "outputs": [
    {
     "data": {
      "text/html": [
       "<div>\n",
       "<style scoped>\n",
       "    .dataframe tbody tr th:only-of-type {\n",
       "        vertical-align: middle;\n",
       "    }\n",
       "\n",
       "    .dataframe tbody tr th {\n",
       "        vertical-align: top;\n",
       "    }\n",
       "\n",
       "    .dataframe thead th {\n",
       "        text-align: right;\n",
       "    }\n",
       "</style>\n",
       "<table border=\"1\" class=\"dataframe\">\n",
       "  <thead>\n",
       "    <tr style=\"text-align: right;\">\n",
       "      <th></th>\n",
       "      <th>연월일</th>\n",
       "      <th>시간</th>\n",
       "      <th>구분</th>\n",
       "      <th>공급량</th>\n",
       "      <th>timestamp</th>\n",
       "      <th>diff1</th>\n",
       "      <th>year</th>\n",
       "      <th>momth</th>\n",
       "      <th>day</th>\n",
       "    </tr>\n",
       "  </thead>\n",
       "  <tbody>\n",
       "    <tr>\n",
       "      <th>0</th>\n",
       "      <td>2013-01-01</td>\n",
       "      <td>1</td>\n",
       "      <td>A</td>\n",
       "      <td>2497.129</td>\n",
       "      <td>2013-01-011</td>\n",
       "      <td>NaN</td>\n",
       "      <td>2013</td>\n",
       "      <td>01</td>\n",
       "      <td>01</td>\n",
       "    </tr>\n",
       "    <tr>\n",
       "      <th>1</th>\n",
       "      <td>2013-01-01</td>\n",
       "      <td>2</td>\n",
       "      <td>A</td>\n",
       "      <td>2363.265</td>\n",
       "      <td>2013-01-012</td>\n",
       "      <td>-133.864</td>\n",
       "      <td>2013</td>\n",
       "      <td>01</td>\n",
       "      <td>01</td>\n",
       "    </tr>\n",
       "    <tr>\n",
       "      <th>2</th>\n",
       "      <td>2013-01-01</td>\n",
       "      <td>3</td>\n",
       "      <td>A</td>\n",
       "      <td>2258.505</td>\n",
       "      <td>2013-01-013</td>\n",
       "      <td>-104.760</td>\n",
       "      <td>2013</td>\n",
       "      <td>01</td>\n",
       "      <td>01</td>\n",
       "    </tr>\n",
       "    <tr>\n",
       "      <th>3</th>\n",
       "      <td>2013-01-01</td>\n",
       "      <td>4</td>\n",
       "      <td>A</td>\n",
       "      <td>2243.969</td>\n",
       "      <td>2013-01-014</td>\n",
       "      <td>-14.536</td>\n",
       "      <td>2013</td>\n",
       "      <td>01</td>\n",
       "      <td>01</td>\n",
       "    </tr>\n",
       "    <tr>\n",
       "      <th>4</th>\n",
       "      <td>2013-01-01</td>\n",
       "      <td>5</td>\n",
       "      <td>A</td>\n",
       "      <td>2344.105</td>\n",
       "      <td>2013-01-015</td>\n",
       "      <td>100.136</td>\n",
       "      <td>2013</td>\n",
       "      <td>01</td>\n",
       "      <td>01</td>\n",
       "    </tr>\n",
       "  </tbody>\n",
       "</table>\n",
       "</div>"
      ],
      "text/plain": [
       "          연월일  시간 구분       공급량    timestamp    diff1  year momth day\n",
       "0  2013-01-01   1  A  2497.129  2013-01-011      NaN  2013    01  01\n",
       "1  2013-01-01   2  A  2363.265  2013-01-012 -133.864  2013    01  01\n",
       "2  2013-01-01   3  A  2258.505  2013-01-013 -104.760  2013    01  01\n",
       "3  2013-01-01   4  A  2243.969  2013-01-014  -14.536  2013    01  01\n",
       "4  2013-01-01   5  A  2344.105  2013-01-015  100.136  2013    01  01"
      ]
     },
     "execution_count": 8,
     "metadata": {},
     "output_type": "execute_result"
    }
   ],
   "source": [
    "a2013_df.head()"
   ]
  },
  {
   "cell_type": "code",
   "execution_count": 16,
   "metadata": {},
   "outputs": [
    {
     "data": {
      "text/plain": [
       "[<matplotlib.lines.Line2D at 0x2a7ad9450>]"
      ]
     },
     "execution_count": 16,
     "metadata": {},
     "output_type": "execute_result"
    },
    {
     "data": {
      "image/png": "[encoded data removed]",
      "text/plain": [
       "<Figure size 2160x720 with 1 Axes>"
      ]
     },
     "metadata": {
      "needs_background": "light"
     },
     "output_type": "display_data"
    }
   ],
   "source": [
    "fig = plt.figure(figsize=(30, 10))\n",
    "ax = plt.axes()\n",
    "\n",
    "ax.plot(a2013_df.loc[:, 'timestamp'], a2013_df.loc[:, 'diff1'])"
   ]
  },
  {
   "cell_type": "code",
   "execution_count": 15,
   "metadata": {},
   "outputs": [
    {
     "data": {
      "text/plain": [
       "[<matplotlib.lines.Line2D at 0x17e3fa830>]"
      ]
     },
     "execution_count": 15,
     "metadata": {},
     "output_type": "execute_result"
    },
    {
     "data": {
      "image/png": "[encoded data removed]",
      "text/plain": [
       "<Figure size 2160x720 with 1 Axes>"
      ]
     },
     "metadata": {
      "needs_background": "light"
     },
     "output_type": "display_data"
    }
   ],
   "source": [
    "fig = plt.figure(figsize=(30, 10))\n",
    "ax = plt.axes()\n",
    "\n",
    "ax.plot(a2013_df.loc[1:, 'timestamp'], a2013_df.loc[1:, 'diff1'])"
   ]
  },
  {
   "cell_type": "code",
   "execution_count": null,
   "metadata": {},
   "outputs": [],
   "source": []
  }
 ],
 "metadata": {
  "kernelspec": {
   "display_name": "co2",
   "language": "python",
   "name": "python3"
  },
  "language_info": {
   "codemirror_mode": {
    "name": "ipython",
    "version": 3
   },
   "file_extension": ".py",
   "mimetype": "text/x-python",
   "name": "python",
   "nbconvert_exporter": "python",
   "pygments_lexer": "ipython3",
   "version": "3.10.9 (main, Jan 11 2023, 09:18:18) [Clang 14.0.6 ]"
  },
  "orig_nbformat": 4,
  "vscode": {
   "interpreter": {
    "hash": "4875c3b623c92e2c168f3318f3e1670cc69f3f1f9406323348ff33f8e3c54a39"
   }
  }
 },
 "nbformat": 4,
 "nbformat_minor": 2
}
